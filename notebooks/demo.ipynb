{
 "cells": [
  {
   "cell_type": "markdown",
   "metadata": {},
   "source": [
    "# pc2beam demo\n",
    "\n",
    "This notebook demonstrates the core functionality of the pc2beam package using the test dataset.\n",
    "\n",
    "## overview\n",
    "The pc2beam package processes point clouds to extract beam-like structures by:\n",
    "1. compute local orientation supernormal $\\vec{s_1}$\n",
    "2. estimate segment orientation $\\vec{s_2}$\n",
    "\n",
    "---\n",
    "**note**: this notebook automatically detects whether it's running locally or on Google Colab and adapts accordingly."
   ]
  },
  {
   "cell_type": "markdown",
   "metadata": {},
   "source": [
    "## environment detection and setup"
   ]
  },
  {
   "cell_type": "code",
   "execution_count": 1,
   "metadata": {},
   "outputs": [
    {
     "name": "stdout",
     "output_type": "stream",
     "text": [
      "environment: local\n",
      "using local data in /Users/fnoi/Code/pc2beam/data/test_points.txt\n",
      "environment setup complete!\n"
     ]
    }
   ],
   "source": [
    "try:\n",
    "    import google.colab\n",
    "    IN_COLAB = True\n",
    "    print(\"environment: Google Colab\")\n",
    "except ImportError:\n",
    "    IN_COLAB = False\n",
    "    print(\"environment: local\")\n",
    "\n",
    "if IN_COLAB:\n",
    "    print(\"installing dependencies...\")\n",
    "    !pip install open3d plotly matplotlib pyyaml\n",
    "    print(\"installing pc2beam from GitHub...\")\n",
    "    !git clone https://github.com/fnoi/pc2beam.git\n",
    "    import sys\n",
    "    sys.path.append('/content/pc2beam')\n",
    "    \n",
    "    # Set data path for Colab (data is already in the repo)\n",
    "    data_path = \"/content/pc2beam/data/test_points.txt\"\n",
    "    print(f\"using repo data in {data_path}\")\n",
    "    \n",
    "else:\n",
    "    # Local environment setup\n",
    "    import sys\n",
    "    from pathlib import Path\n",
    "    \n",
    "    # Add project root to path\n",
    "    project_root = Path.cwd().parent\n",
    "    if str(project_root) not in sys.path:\n",
    "        sys.path.append(str(project_root))\n",
    "    \n",
    "    # Set data path for local\n",
    "    data_path = project_root / \"data\" / \"test_points.txt\"\n",
    "    print(f\"using local data in {data_path}\")\n",
    "\n",
    "print(\"environment setup complete!\")"
   ]
  },
  {
   "cell_type": "markdown",
   "metadata": {},
   "source": [
    "## imports"
   ]
  },
  {
   "cell_type": "code",
   "execution_count": 2,
   "metadata": {},
   "outputs": [
    {
     "name": "stderr",
     "output_type": "stream",
     "text": [
      "/Users/fnoi/Code/pc2beam/venv_pc2beam/lib/python3.9/site-packages/urllib3/__init__.py:35: NotOpenSSLWarning: urllib3 v2 only supports OpenSSL 1.1.1+, currently the 'ssl' module is compiled with 'LibreSSL 2.8.3'. See: https://github.com/urllib3/urllib3/issues/3020\n",
      "  warnings.warn(\n"
     ]
    }
   ],
   "source": [
    "from pc2beam.data import PointCloud\n",
    "import numpy as np\n",
    "import plotly.graph_objects as go\n",
    "from plotly.subplots import make_subplots\n",
    "from pathlib import Path"
   ]
  },
  {
   "cell_type": "markdown",
   "metadata": {},
   "source": [
    "## load and visualize test dataset"
   ]
  },
  {
   "cell_type": "code",
   "execution_count": 3,
   "metadata": {},
   "outputs": [
    {
     "ename": "NameError",
     "evalue": "name 'viz' is not defined",
     "output_type": "error",
     "traceback": [
      "\u001b[0;31m---------------------------------------------------------------------------\u001b[0m",
      "\u001b[0;31mNameError\u001b[0m                                 Traceback (most recent call last)",
      "Cell \u001b[0;32mIn[3], line 5\u001b[0m\n\u001b[1;32m      1\u001b[0m \u001b[38;5;28;01mfrom\u001b[39;00m\u001b[38;5;250m \u001b[39m\u001b[38;5;21;01mplotly\u001b[39;00m\u001b[38;5;21;01m.\u001b[39;00m\u001b[38;5;21;01msubplots\u001b[39;00m\u001b[38;5;250m \u001b[39m\u001b[38;5;28;01mimport\u001b[39;00m make_subplots\n\u001b[1;32m      3\u001b[0m pc \u001b[38;5;241m=\u001b[39m PointCloud\u001b[38;5;241m.\u001b[39mfrom_txt(data_path)\n\u001b[0;32m----> 5\u001b[0m fig_uniform \u001b[38;5;241m=\u001b[39m \u001b[43mpc\u001b[49m\u001b[38;5;241;43m.\u001b[39;49m\u001b[43mvisualize\u001b[49m\u001b[43m(\u001b[49m\n\u001b[1;32m      6\u001b[0m \u001b[43m    \u001b[49m\u001b[43mcolor_by\u001b[49m\u001b[38;5;241;43m=\u001b[39;49m\u001b[38;5;124;43m\"\u001b[39;49m\u001b[38;5;124;43muniform\u001b[39;49m\u001b[38;5;124;43m\"\u001b[39;49m\u001b[43m,\u001b[49m\n\u001b[1;32m      7\u001b[0m \u001b[43m    \u001b[49m\u001b[43mshow_normals\u001b[49m\u001b[38;5;241;43m=\u001b[39;49m\u001b[38;5;28;43;01mFalse\u001b[39;49;00m\u001b[43m,\u001b[49m\n\u001b[1;32m      8\u001b[0m \u001b[43m    \u001b[49m\u001b[43mnormal_length\u001b[49m\u001b[38;5;241;43m=\u001b[39;49m\u001b[38;5;241;43m0.1\u001b[39;49m\u001b[43m,\u001b[49m\n\u001b[1;32m      9\u001b[0m \u001b[43m    \u001b[49m\u001b[43mtitle\u001b[49m\u001b[38;5;241;43m=\u001b[39;49m\u001b[38;5;124;43m\"\u001b[39;49m\u001b[38;5;124;43mAll Points (Uniform Color)\u001b[39;49m\u001b[38;5;124;43m\"\u001b[39;49m\u001b[43m,\u001b[49m\n\u001b[1;32m     10\u001b[0m \u001b[43m    \u001b[49m\u001b[43mmax_points\u001b[49m\u001b[38;5;241;43m=\u001b[39;49m\u001b[38;5;241;43m2000\u001b[39;49m\u001b[43m,\u001b[49m\n\u001b[1;32m     11\u001b[0m \u001b[43m    \u001b[49m\u001b[43mortho_view\u001b[49m\u001b[38;5;241;43m=\u001b[39;49m\u001b[38;5;28;43;01mTrue\u001b[39;49;00m\n\u001b[1;32m     12\u001b[0m \u001b[43m)\u001b[49m\n\u001b[1;32m     14\u001b[0m fig_labels \u001b[38;5;241m=\u001b[39m pc\u001b[38;5;241m.\u001b[39mvisualize(\n\u001b[1;32m     15\u001b[0m     color_by\u001b[38;5;241m=\u001b[39m\u001b[38;5;124m\"\u001b[39m\u001b[38;5;124minstance\u001b[39m\u001b[38;5;124m\"\u001b[39m,\n\u001b[1;32m     16\u001b[0m     show_normals\u001b[38;5;241m=\u001b[39m\u001b[38;5;28;01mTrue\u001b[39;00m,\n\u001b[0;32m   (...)\u001b[0m\n\u001b[1;32m     20\u001b[0m     ortho_view\u001b[38;5;241m=\u001b[39m\u001b[38;5;28;01mTrue\u001b[39;00m\n\u001b[1;32m     21\u001b[0m )\n\u001b[1;32m     23\u001b[0m fig \u001b[38;5;241m=\u001b[39m make_subplots(\n\u001b[1;32m     24\u001b[0m     rows\u001b[38;5;241m=\u001b[39m\u001b[38;5;241m1\u001b[39m, cols\u001b[38;5;241m=\u001b[39m\u001b[38;5;241m2\u001b[39m,\n\u001b[1;32m     25\u001b[0m     specs\u001b[38;5;241m=\u001b[39m[[{\u001b[38;5;124m\"\u001b[39m\u001b[38;5;124mtype\u001b[39m\u001b[38;5;124m\"\u001b[39m: \u001b[38;5;124m\"\u001b[39m\u001b[38;5;124mscene\u001b[39m\u001b[38;5;124m\"\u001b[39m}, {\u001b[38;5;124m\"\u001b[39m\u001b[38;5;124mtype\u001b[39m\u001b[38;5;124m\"\u001b[39m: \u001b[38;5;124m\"\u001b[39m\u001b[38;5;124mscene\u001b[39m\u001b[38;5;124m\"\u001b[39m}]],\n\u001b[1;32m     26\u001b[0m     subplot_titles\u001b[38;5;241m=\u001b[39m(\u001b[38;5;124m\"\u001b[39m\u001b[38;5;124mAll Points (Uniform Color)\u001b[39m\u001b[38;5;124m\"\u001b[39m, \u001b[38;5;124m\"\u001b[39m\u001b[38;5;124mInstance Labels + Normals\u001b[39m\u001b[38;5;124m\"\u001b[39m)\n\u001b[1;32m     27\u001b[0m )\n",
      "File \u001b[0;32m~/Code/pc2beam/pc2beam/data.py:106\u001b[0m, in \u001b[0;36mPointCloud.visualize\u001b[0;34m(self, mode, **kwargs)\u001b[0m\n\u001b[1;32m     98\u001b[0m     \u001b[38;5;28;01mreturn\u001b[39;00m viz\u001b[38;5;241m.\u001b[39mplot_point_cloud(\n\u001b[1;32m     99\u001b[0m         \u001b[38;5;28mself\u001b[39m\u001b[38;5;241m.\u001b[39mpoints, \n\u001b[1;32m    100\u001b[0m         features\u001b[38;5;241m=\u001b[39m\u001b[38;5;28mself\u001b[39m\u001b[38;5;241m.\u001b[39mfeatures,\n\u001b[0;32m   (...)\u001b[0m\n\u001b[1;32m    103\u001b[0m         \u001b[38;5;241m*\u001b[39m\u001b[38;5;241m*\u001b[39mkwargs\n\u001b[1;32m    104\u001b[0m     )\n\u001b[1;32m    105\u001b[0m \u001b[38;5;28;01melse\u001b[39;00m:\n\u001b[0;32m--> 106\u001b[0m     \u001b[38;5;28;01mreturn\u001b[39;00m \u001b[43mviz\u001b[49m\u001b[38;5;241m.\u001b[39mplot_point_cloud(\n\u001b[1;32m    107\u001b[0m         \u001b[38;5;28mself\u001b[39m\u001b[38;5;241m.\u001b[39mpoints, \n\u001b[1;32m    108\u001b[0m         \u001b[38;5;28mself\u001b[39m\u001b[38;5;241m.\u001b[39mnormals, \n\u001b[1;32m    109\u001b[0m         \u001b[38;5;28mself\u001b[39m\u001b[38;5;241m.\u001b[39minstances,\n\u001b[1;32m    110\u001b[0m         mode\u001b[38;5;241m=\u001b[39mmode,\n\u001b[1;32m    111\u001b[0m         \u001b[38;5;241m*\u001b[39m\u001b[38;5;241m*\u001b[39mkwargs\n\u001b[1;32m    112\u001b[0m     )\n",
      "\u001b[0;31mNameError\u001b[0m: name 'viz' is not defined"
     ]
    }
   ],
   "source": [
    "from plotly.subplots import make_subplots\n",
    "\n",
    "pc = PointCloud.from_txt(data_path)\n",
    "\n",
    "fig_uniform = pc.visualize(\n",
    "    color_by=\"uniform\",\n",
    "    show_normals=False,\n",
    "    normal_length=0.1,\n",
    "    title=\"All Points (Uniform Color)\",\n",
    "    max_points=2000,\n",
    "    ortho_view=True\n",
    ")\n",
    "\n",
    "fig_labels = pc.visualize(\n",
    "    color_by=\"instance\",\n",
    "    show_normals=True,\n",
    "    normal_length=0.1,\n",
    "    title=\"Instance Labels + Normals\",\n",
    "    max_points=2000,\n",
    "    ortho_view=True\n",
    ")\n",
    "\n",
    "fig = make_subplots(\n",
    "    rows=1, cols=2,\n",
    "    specs=[[{\"type\": \"scene\"}, {\"type\": \"scene\"}]],\n",
    "    subplot_titles=(\"All Points (Uniform Color)\", \"Instance Labels + Normals\")\n",
    ")\n",
    "\n",
    "fig = make_subplots(\n",
    "    rows=1, cols=2,\n",
    "    specs=[[{\"type\": \"scene\"}, {\"type\": \"scene\"}]],\n",
    "    subplot_titles=(\"All Points (Uniform Color)\", \"Instance Labels + Normals\")\n",
    ")\n",
    "\n",
    "for trace in fig_uniform.data:\n",
    "    fig.add_trace(trace, row=1, col=1)\n",
    "for trace in fig_labels.data:\n",
    "    fig.add_trace(trace, row=1, col=2)\n",
    "\n",
    "fig.update_layout(\n",
    "    width=1200,\n",
    "    height=500,\n",
    "    showlegend=False,\n",
    "    scene=dict(\n",
    "        aspectmode='data',\n",
    "        camera=dict(\n",
    "            up=dict(x=0, y=0, z=1),\n",
    "            center=dict(x=0, y=0, z=0),\n",
    "            eye=dict(x=1.5, y=1.5, z=1.5),\n",
    "            projection=dict(type=\"orthographic\")\n",
    "        )\n",
    "    ),\n",
    "    scene2=dict(\n",
    "        aspectmode='data',\n",
    "        camera=dict(\n",
    "            up=dict(x=0, y=0, z=1),\n",
    "            center=dict(x=0, y=0, z=0),\n",
    "            eye=dict(x=1.5, y=1.5, z=1.5),\n",
    "            projection=dict(type=\"orthographic\")\n",
    "        )\n",
    "    )\n",
    ")\n",
    "fig.show()"
   ]
  },
  {
   "cell_type": "code",
   "execution_count": null,
   "metadata": {},
   "outputs": [],
   "source": [
    "pc = PointCloud.from_txt(data_path)\n",
    "print(f\"loaded point cloud with {pc.size:,} points\")\n",
    "print(f\"has normals: {pc.has_normals}; has instance labels: {pc.has_instances}\")\n",
    "fig_original = pc.visualize(\n",
    "    color_by=\"instance\",\n",
    "    show_normals=False,\n",
    "    normal_length=0.1,\n",
    "    title=\"original point cloud - colored by instance labels\",\n",
    "    max_points=2000,\n",
    "    ortho_view=True\n",
    ")\n",
    "fig_original.show()"
   ]
  }
 ],
 "metadata": {
  "kernelspec": {
   "display_name": "venv_pc2beam",
   "language": "python",
   "name": "python3"
  },
  "language_info": {
   "codemirror_mode": {
    "name": "ipython",
    "version": 3
   },
   "file_extension": ".py",
   "mimetype": "text/x-python",
   "name": "python",
   "nbconvert_exporter": "python",
   "pygments_lexer": "ipython3",
   "version": "3.9.6"
  }
 },
 "nbformat": 4,
 "nbformat_minor": 4
}

{
 "cells": [
  {
   "cell_type": "markdown",
   "metadata": {},
   "source": [
    "# PC2Beam Demo - Hybrid Version (Works Locally & on Colab)\n",
    "\n",
    "This notebook demonstrates the core functionality of the pc2beam package using the test dataset.\n",
    "\n",
    "## Overview\n",
    "The pc2beam package processes point clouds to extract beam-like structures by:\n",
    "1. **S1 Features**: Computing supernormals (enhanced normal vectors)\n",
    "2. **S2 Features**: Extracting segment orientation features\n",
    "3. **Beam Projection**: Projecting points to beam model representation\n",
    "4. **Visualization**: Interactive 3D and 2D visualizations\n",
    "\n",
    "---\n",
    "**Note**: This notebook automatically detects whether it's running locally or on Colab and adapts accordingly."
   ]
  },
  {
   "cell_type": "markdown",
   "metadata": {},
   "source": [
    "## Environment Detection and Setup"
   ]
  },
  {
   "cell_type": "code",
   "execution_count": null,
   "metadata": {},
   "outputs": [],
   "source": [
    "# Detect if running on Google Colab\n",
    "try:\n",
    "    import google.colab\n",
    "    IN_COLAB = True\n",
    "    print(\"🔄 Detected Google Colab environment\")\n",
    "except ImportError:\n",
    "    IN_COLAB = False\n",
    "    print(\"🔄 Detected local environment\")\n",
    "\n",
    "# Setup based on environment\n",
    "if IN_COLAB:\n",
    "    # Install package on Colab\n",
    "    print(\"📦 Installing pc2beam from GitHub...\")\n",
    "    !pip install git+https://github.com/fnoi/pc2beam.git\n",
    "    \n",
    "    # Download test data\n",
    "    import urllib.request\n",
    "    import os\n",
    "    os.makedirs('data', exist_ok=True)\n",
    "    test_data_url = \"https://raw.githubusercontent.com/fnoi/pc2beam/dev/data/test_points.txt\"\n",
    "    urllib.request.urlretrieve(test_data_url, \"data/test_points.txt\")\n",
    "    print(\"✅ Test data downloaded\")\n",
    "    \n",
    "    # Set data path for Colab\n",
    "    data_path = \"data/test_points.txt\"\n",
    "else:\n",
    "    # Local environment setup\n",
    "    import sys\n",
    "    from pathlib import Path\n",
    "    \n",
    "    # Add project root to path\n",
    "    project_root = Path.cwd().parent\n",
    "    if str(project_root) not in sys.path:\n",
    "        sys.path.append(str(project_root))\n",
    "    \n",
    "    # Set data path for local\n",
    "    data_path = project_root / \"data\" / \"test_points.txt\"\n",
    "    print(f\"✅ Using local data: {data_path}\")\n",
    "\n",
    "print(\"✅ Environment setup complete!\")"
   ]
  },
  {
   "cell_type": "markdown",
   "metadata": {},
   "source": [
    "## Imports"
   ]
  },
  {
   "cell_type": "code",
   "execution_count": null,
   "metadata": {},
   "outputs": [],
   "source": [
    "# Import required libraries\n",
    "from pc2beam.data import PointCloud\n",
    "import numpy as np\n",
    "import plotly.graph_objects as go\n",
    "from plotly.subplots import make_subplots\n",
    "from pathlib import Path\n",
    "\n",
    "print(\"✅ All imports successful!\")"
   ]
  },
  {
   "cell_type": "markdown",
   "metadata": {},
   "source": [
    "## Load Test Dataset"
   ]
  },
  {
   "cell_type": "code",
   "execution_count": null,
   "metadata": {},
   "outputs": [],
   "source": [
    "# Load point cloud from test data\n",
    "pc = PointCloud.from_txt(data_path)\n",
    "\n",
    "print(f\"✅ Loaded point cloud with {pc.size:,} points\")\n",
    "print(f\"📊 Has normals: {pc.has_normals}\")\n",
    "print(f\"🏷️  Has instance labels: {pc.has_instances}\")\n",
    "print(f\"📏 Point cloud bounds: {pc.points.min(axis=0)} to {pc.points.max(axis=0)}\")"
   ]
  },
  {
   "cell_type": "markdown",
   "metadata": {},
   "source": [
    "## Visualize Original Point Cloud"
   ]
  },
  {
   "cell_type": "code",
   "execution_count": null,
   "metadata": {},
   "outputs": [],
   "source": [
    "# Visualize original point cloud\n",
    "fig_original = pc.visualize(\n",
    "    color_by=\"instance\",\n",
    "    show_normals=True,\n",
    "    normal_length=0.1,\n",
    "    title=\"Original Point Cloud - Colored by Instance Labels\",\n",
    "    max_points=2000\n",
    ")\n",
    "fig_original.show()"
   ]
  },
  {
   "cell_type": "markdown",
   "metadata": {},
   "source": [
    "## Compute S1 Features (Supernormals)"
   ]
  },
  {
   "cell_type": "code",
   "execution_count": null,
   "metadata": {},
   "outputs": [],
   "source": [
    "# Compute S1 features (supernormals)\n",
    "print(\"🔄 Computing S1 features (supernormals)...\")\n",
    "pc.calculate_s1(radius=0.1, use_radius=True)\n",
    "print(f\"✅ S1 features computed: {pc.has_s1_feature}\")\n",
    "\n",
    "# Visualize with supernormals\n",
    "fig_s1 = pc.visualize_with_supernormals(\n",
    "    color_by=\"instance\",\n",
    "    normal_length=0.1,\n",
    "    title=\"Point Cloud with S1 Supernormals - Colored by Instance\",\n",
    "    max_points=2000\n",
    ")\n",
    "fig_s1.show()"
   ]
  },
  {
   "cell_type": "markdown",
   "metadata": {},
   "source": [
    "## Compute S2 Features (Segment Orientation)"
   ]
  },
  {
   "cell_type": "code",
   "execution_count": null,
   "metadata": {},
   "outputs": [],
   "source": [
    "# Compute S2 features (segment orientation)\n",
    "print(\"🔄 Computing S2 features (segment orientation)...\")\n",
    "pc.calculate_s2(\n",
    "    distance_threshold=0.01,\n",
    "    ransac_n=3,\n",
    "    num_iterations=1000\n",
    ")\n",
    "print(f\"✅ S2 features computed: {pc.has_s2_feature}\")\n",
    "\n",
    "# Display S2 feature information\n",
    "if pc.has_s2_feature:\n",
    "    s2_instances = pc.s2_features.get_all_instances()\n",
    "    print(f\"📈 Found S2 features for {len(s2_instances)} instances\")\n",
    "    \n",
    "    # Show first few S2 vectors\n",
    "    for i, instance_id in enumerate(s2_instances[:3]):\n",
    "        s2_vec = pc.s2_features.get_s2_vector(instance_id)\n",
    "        line_pt = pc.s2_features.get_line_point(instance_id)\n",
    "        print(f\"   Instance {instance_id}: S2 vector = {s2_vec}, line point = {line_pt}\")"
   ]
  },
  {
   "cell_type": "markdown",
   "metadata": {},
   "source": [
    "## Project to Beam Model"
   ]
  },
  {
   "cell_type": "code",
   "execution_count": null,
   "metadata": {},
   "outputs": [],
   "source": [
    "# Project points to beam model\n",
    "print(\"🔄 Projecting points to beam model...\")\n",
    "pc.project_to_beam(min_points_per_instance=10)\n",
    "print(f\"✅ Beam projection completed: {pc.has_beam_projection}\")\n",
    "\n",
    "if pc.has_beam_projection:\n",
    "    print(f\"📊 Projected {len(pc.projected_points)} points to beam model\")\n",
    "    print(f\"📏 Beam bounds: {pc.projected_points.min(axis=0)} to {pc.projected_points.max(axis=0)}\")"
   ]
  },
  {
   "cell_type": "markdown",
   "metadata": {},
   "source": [
    "## Visualize Results"
   ]
  },
  {
   "cell_type": "code",
   "execution_count": null,
   "metadata": {},
   "outputs": [],
   "source": [
    "# Create side-by-side comparison\n",
    "fig_comparison = make_subplots(\n",
    "    rows=1, cols=2,\n",
    "    subplot_titles=('Original Point Cloud', 'Beam Projection'),\n",
    "    specs=[[{'type': 'scatter3d'}, {'type': 'scatter3d'}]]\n",
    ")\n",
    "\n",
    "# Original point cloud\n",
    "fig_orig = pc.visualize(\n",
    "    color_by=\"instance\",\n",
    "    max_points=2000,\n",
    "    show=False\n",
    ")\n",
    "fig_comparison.add_trace(fig_orig.data[0], row=1, col=1)\n",
    "\n",
    "# Beam projection\n",
    "fig_beam = pc.visualize_beam_projection(\n",
    "    color_by=\"instance\",\n",
    "    max_points=2000,\n",
    "    show=False\n",
    ")\n",
    "fig_comparison.add_trace(fig_beam.data[0], row=1, col=2)\n",
    "\n",
    "fig_comparison.update_layout(\n",
    "    title=\"Comparison: Original vs Beam Projection\",\n",
    "    height=500,\n",
    "    showlegend=False\n",
    ")\n",
    "fig_comparison.show()"
   ]
  },
  {
   "cell_type": "markdown",
   "metadata": {},
   "source": [
    "## 2D XY Projection View"
   ]
  },
  {
   "cell_type": "code",
   "execution_count": null,
   "metadata": {},
   "outputs": [],
   "source": [
    "# Create 2D XY scatter plot of projected points\n",
    "fig_xy = pc.visualize_projected_points_xy(\n",
    "    title=\"Beam Projection - XY View (Top-Down)\",\n",
    "    color_by=\"instance\",\n",
    "    point_size=4,\n",
    "    max_points=2000\n",
    ")\n",
    "fig_xy.show()"
   ]
  },
  {
   "cell_type": "markdown",
   "metadata": {},
   "source": [
    "## Summary and Statistics"
   ]
  },
  {
   "cell_type": "code",
   "execution_count": null,
   "metadata": {},
   "outputs": [],
   "source": [
    "# Display summary statistics\n",
    "print(\"📋 PC2Beam Processing Summary\")\n",
    "print(\"=\" * 40)\n",
    "print(f\"Environment: {'Google Colab' if IN_COLAB else 'Local'}\")\n",
    "print(f\"Input points: {pc.size:,}\")\n",
    "print(f\"S1 features computed: {pc.has_s1_feature}\")\n",
    "print(f\"S2 features computed: {pc.has_s2_feature}\")\n",
    "print(f\"Beam projection: {pc.has_beam_projection}\")\n",
    "\n",
    "if pc.has_s2_feature:\n",
    "    s2_instances = pc.s2_features.get_all_instances()\n",
    "    print(f\"S2 instances: {len(s2_instances)}\")\n",
    "\n",
    "if pc.has_beam_projection:\n",
    "    print(f\"Projected points: {len(pc.projected_points):,}\")\n",
    "    \n",
    "    # Calculate compression ratio\n",
    "    compression_ratio = len(pc.projected_points) / pc.size\n",
    "    print(f\"Compression ratio: {compression_ratio:.2%}\")\n",
    "    \n",
    "    # Show unique instances in projection\n",
    "    unique_instances = np.unique(pc.projected_instances)\n",
    "    print(f\"Unique instances in projection: {len(unique_instances)}\")\n",
    "\n",
    "print(\"✅ Processing complete!\")\n",
    "print(f\"\\n🎉 Demo completed successfully on {'Google Colab' if IN_COLAB else 'local environment'}!\")"
   ]
  }
 ],
 "metadata": {
  "kernelspec": {
   "display_name": "Python 3",
   "language": "python",
   "name": "python3"
  },
  "language_info": {
   "codemirror_mode": {
    "name": "ipython",
    "version": 3
   },
   "file_extension": ".py",
   "mimetype": "text/x-python",
   "name": "python",
   "nbconvert_exporter": "python",
   "pygments_lexer": "ipython3",
   "version": "3.9.0"
  }
 },
 "nbformat": 4,
 "nbformat_minor": 4
}
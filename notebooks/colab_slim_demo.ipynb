{
 "cells": [
  {
   "cell_type": "markdown",
   "metadata": {},
   "source": [
    "# PC2Beam Slim Demonstrator - Google Colab\n",
    "\n",
    "This notebook demonstrates the PC2Beam point cloud to beam processing pipeline.\n",
    "\n",
    "**To use this demonstrator:**\n",
    "1. Click \"Runtime\" → \"Run all\" to execute all cells\n",
    "2. Use the interactive widgets to select datasets and process them\n",
    "3. View results and visualizations\n",
    "\n",
    "**Note:** This runs entirely in your browser - no installation required!"
   ]
  },
  {
   "cell_type": "code",
   "metadata": {},
   "source": [
    "# Install required packages\n",
    "!pip install plotly ipywidgets numpy pandas scikit-learn"
   ]
  },
  {
   "cell_type": "code",
   "metadata": {},
   "source": [
    "# Import everything from the demo module\n",
    "from pc2beam.demo import (\n",
    "    generate_dummy_data,\n",
    "    process_pipeline,\n",
    "    create_3d_beam_projection,\n",
    "    create_xy_scatter_plot\n",
    ")\n",
    "import ipywidgets as widgets\n",
    "from IPython.display import display, clear_output\n",
    "import pandas as pd\n",
    "\n",
    "print('PC2Beam demonstrator loaded successfully!')"
   ]
  },
  {
   "cell_type": "code",
   "metadata": {},
   "source": [
    "# Generate datasets and create widgets\n",
    "datasets = generate_dummy_data()\n",
    "print(f'Generated {len(datasets)} datasets')\n",
    "\n",
    "# Create interactive widgets\n",
    "dataset_options = [(f'{name} ({len(data[\"points\"])} points)', name) for name, data in datasets.items()]\n",
    "dataset_dropdown = widgets.Dropdown(options=dataset_options, value=dataset_options[0][1], description='Dataset:')\n",
    "voxel_size = widgets.FloatSlider(value=0.1, min=0.01, max=1.0, step=0.01, description='Voxel Size:')\n",
    "min_points = widgets.IntSlider(value=10, min=1, max=100, description='Min Points:')\n",
    "process_button = widgets.Button(description='🚀 Process Point Cloud', button_style='primary')\n",
    "output_area = widgets.Output()\n",
    "progress_bar = widgets.FloatProgress(value=0, min=0, max=1, description='Progress:')\n",
    "progress_bar.layout.display = 'none'\n",
    "status_text = widgets.HTML(value='<p style=\"color: blue;\">Ready to process</p>')"
   ]
  },
  {
   "cell_type": "code",
   "metadata": {},
   "source": [
    "# Processing function\n",
    "def process_pointcloud(b):\n",
    "    with output_area:\n",
    "        clear_output(wait=True)\n",
    "        dataset_name = dataset_dropdown.value\n",
    "        if not dataset_name:\n",
    "            status_text.value = '<p style=\"color: red;\">Please select a dataset</p>'\n",
    "            return\n",
    "        \n",
    "        points = datasets[dataset_name]['points']\n",
    "        status_text.value = '<p style=\"color: orange;\">Processing...</p>'\n",
    "        progress_bar.layout.display = 'block'\n",
    "        \n",
    "        try:\n",
    "            # Run complete pipeline\n",
    "            results = process_pipeline(points, voxel_size.value, min_points.value)\n",
    "            progress_bar.value = 1.0\n",
    "            \n",
    "            # Display results\n",
    "            print(f'📁 Dataset: {dataset_name}')\n",
    "            print(f'📊 Original points: {len(points):,}')\n",
    "            print(f'🔍 S1 features: {len(results[\"s1_features\"]):,}')\n",
    "            print(f'📈 S2 features: {len(results[\"s2_features\"]):,}')\n",
    "            \n",
    "            # Create visualizations\n",
    "            fig_3d = create_3d_beam_projection(results['beam_projection'])\n",
    "            fig_3d.update_layout(title=f'3D Beam Projection - {dataset_name}')\n",
    "            fig_3d.show()\n",
    "            \n",
    "            fig_xy = create_xy_scatter_plot(results['beam_projection'])\n",
    "            fig_xy.update_layout(title=f'XY Projection - {dataset_name}')\n",
    "            fig_xy.show()\n",
    "            \n",
    "            # Feature statistics\n",
    "            if results['s1_features']:\n",
    "                s1_df = pd.DataFrame(results['s1_features'])\n",
    "                print('\\n📊 S1 Feature Statistics:')\n",
    "                display(s1_df.describe())\n",
    "            \n",
    "            if results['s2_features']:\n",
    "                s2_df = pd.DataFrame(results['s2_features'])\n",
    "                print('\\n📊 S2 Feature Statistics:')\n",
    "                display(s2_df.describe())\n",
    "            \n",
    "            status_text.value = '<p style=\"color: green;\">🎉 Processing completed!</p>'\n",
    "            \n",
    "        except Exception as e:\n",
    "            print(f'❌ Error: {str(e)}')\n",
    "            status_text.value = f'<p style=\"color: red;\">❌ Error: {str(e)}</p>'\n",
    "        finally:\n",
    "            progress_bar.layout.display = 'none'\n",
    "\n",
    "process_button.on_click(process_pointcloud)"
   ]
  },
  {
   "cell_type": "code",
   "metadata": {},
   "source": [
    "# Display interface\n",
    "controls = widgets.VBox([\n",
    "    widgets.HTML(value='<h3>📁 Dataset Selection</h3>'),\n",
    "    dataset_dropdown,\n",
    "    widgets.HTML(value='<h3>⚙️ Processing Parameters</h3>'),\n",
    "    voxel_size,\n",
    "    min_points,\n",
    "    widgets.HTML(value='<h3>🚀 Actions</h3>'),\n",
    "    process_button,\n",
    "    status_text,\n",
    "    progress_bar\n",
    "])\n",
    "display(controls)\n",
    "display(output_area)"
   ]
  },
  {
   "cell_type": "markdown",
   "metadata": {},
   "source": [
    "## 📖 Instructions\n",
    "\n",
    "1. **Select a dataset** from the dropdown menu\n",
    "2. **Adjust parameters** if needed:\n",
    "   - **Voxel Size**: Controls feature extraction resolution\n",
    "   - **Min Points**: Minimum points per voxel\n",
    "3. **Click 'Process Point Cloud'** to run the pipeline\n",
    "4. **View results** including 3D visualizations and statistics\n",
    "\n",
    "## 🔬 Pipeline Stages\n",
    "\n",
    "1. **S1 Features**: Geometric features from voxelized point clouds\n",
    "2. **S2 Features**: Statistical features describing point distributions\n",
    "3. **Beam Projection**: Mapping 3D points to 2D beam coordinates\n",
    "\n",
    "## 🌐 Sharing\n",
    "\n",
    "Save to Google Drive and share the notebook link - runs in any browser!"
   ]
  }
 ],
 "metadata": {
  "kernelspec": {
   "display_name": "Python 3",
   "language": "python",
   "name": "python3"
  },
  "language_info": {
   "name": "python",
   "version": "3.9.0"
  }
 },
 "nbformat": 4,
 "nbformat_minor": 4
}